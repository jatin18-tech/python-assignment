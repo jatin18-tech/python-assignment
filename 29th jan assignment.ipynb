{
 "cells": [
  {
   "cell_type": "markdown",
   "id": "27fc3df1-a3cd-4e0e-95ee-35d8a582e630",
   "metadata": {},
   "source": [
    "# Ques 1. Who developed python programming language?\n",
    "Ans. Guido van rossum\n",
    "\n",
    "# Ques 2. Which type of programming does python support?\n",
    "Ans. Python is an interpreted programming language suppports , object oriented programmming, structural and functional programming.\n",
    "\n",
    "# 3. Is Python case sensitive when dealing with identifiers?\n",
    "Ans. Yes python is case sensitive while dealing with idnetifiers.\n",
    "\n",
    "# 4. What is the correct extension of the Python file?\n",
    "Ans. python.py\n",
    "# 5. Is Python code compiled or interpreted?\n",
    "Ans. interpreted\n",
    "# 6. Name a few blocks of code used to define in Python language?\n",
    "Ans. print(\"hello world\")\n",
    "# 7. State a character used to give single-line comments in Python?\n",
    "Ans. # is used to give single line comment.\n",
    "# 8. Mention functions which can help us to find the version of python that we are currently working on?\n",
    "Ans. using python_version() function we can find the version of python\n",
    "# 9. Python supports the creation of anonymous functions at runtime, using a construct called\n",
    "Ans. lambda function\n",
    "# 10. What does pip stand for python?\n",
    "Ans. preferred installer program\n",
    "# 11. Mention a few built-in functions in python?\n",
    "Ans. len(), count(), type(), set(), list(), bool(), int()\n",
    "# 12. What is the maximum possible length of an identifier in Python?\n",
    "Ans. maximum possible length of identifer in python is 79 \n",
    "# 13. What are the benefits of using Python?\n",
    "Ans. python is easy and simple to learn for begineers. As  it is dynamically self typed language  so we dont need to declare data type , it declares itself based on the value.\n",
    "# 14. How is memory managed in Python?\n",
    "Ans. Memory in Python is managed by Python private heap space. All Python objects and data structures are located in a private heap\n",
    "# 15. How to install Python on Windows and set path variables?\n",
    "Ans.Download python from www.python.org and install the applicaton ensure that python is added to your path.\n",
    "# 16. Is indentation required in python?\n",
    "Ans. Yes\n"
   ]
  },
  {
   "cell_type": "markdown",
   "id": "4111083c-9f8b-40fb-b806-e4e559392ad9",
   "metadata": {},
   "source": []
  },
  {
   "cell_type": "code",
   "execution_count": null,
   "id": "439abe97-50d8-4ff7-a3bc-d92b94967cf7",
   "metadata": {},
   "outputs": [],
   "source": []
  }
 ],
 "metadata": {
  "kernelspec": {
   "display_name": "Python 3 (ipykernel)",
   "language": "python",
   "name": "python3"
  },
  "language_info": {
   "codemirror_mode": {
    "name": "ipython",
    "version": 3
   },
   "file_extension": ".py",
   "mimetype": "text/x-python",
   "name": "python",
   "nbconvert_exporter": "python",
   "pygments_lexer": "ipython3",
   "version": "3.10.6"
  }
 },
 "nbformat": 4,
 "nbformat_minor": 5
}
